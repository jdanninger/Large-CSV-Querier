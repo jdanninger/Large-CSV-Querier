{
 "cells": [
  {
   "cell_type": "markdown",
   "id": "59badd83-3673-4028-91bd-3a23b3e4bdee",
   "metadata": {},
   "source": [
    "## Imports"
   ]
  },
  {
   "cell_type": "code",
   "execution_count": 159,
   "id": "94ab1346-6aca-4506-8eb5-b150eb3a4484",
   "metadata": {},
   "outputs": [],
   "source": [
    "import pandas as pd\n",
    "import numpy as np\n",
    "import shutil\n",
    "import psutil\n",
    "import os\n"
   ]
  },
  {
   "cell_type": "markdown",
   "id": "f3be8ac5",
   "metadata": {},
   "source": [
    "## Global Variables"
   ]
  },
  {
   "cell_type": "code",
   "execution_count": 180,
   "id": "420d2fd2-58d9-463a-a503-b7adcd3527ef",
   "metadata": {},
   "outputs": [],
   "source": [
    "max_tuples = 100000\n",
    "# I added default variables to the dictionary\n",
    "vars = {}\n",
    "def get_memory_usage():\n",
    "    process = psutil.Process(os.getpid())\n",
    "    mem_info = process.memory_info()\n",
    "    return mem_info.rss  # in bytes\n",
    "vars_directory =  \"/Users/jdanninger/Documents/GitHub/Large-CSV-Querier/Variables/\""
   ]
  },
  {
   "cell_type": "markdown",
   "id": "f9431bba-ab00-42e1-af2d-721092585bad",
   "metadata": {},
   "source": [
    "## Code"
   ]
  },
  {
   "cell_type": "code",
   "execution_count": null,
   "id": "92b71726-b21e-4aa1-887d-0663881377e6",
   "metadata": {},
   "outputs": [],
   "source": [
    "def read_line(line, line_num):\n",
    "    try:\n",
    "        if breakDown(line) is None:\n",
    "            print(\"Error: Line is not in the correct format on line: \" + str(line_num))\n",
    "            return\n",
    "        var_name, command, args = breakDown(line)\n",
    "        # make case/switch statement for command\n",
    "        match command:\n",
    "            case \"LoadCSV\":\n",
    "                load(var_name, args)\n",
    "            case \"SetMaxTuples\":\n",
    "                max_tuples = int(args)\n",
    "            case \"Project\":\n",
    "                project(var_name, args)\n",
    "            case \"Select\":\n",
    "                select(var_name, args)\n",
    "            case \"HashJoin\":\n",
    "                merge(var_name, args)\n",
    "            case \"Export\":\n",
    "                export(var_name, args)\n",
    "            case _:\n",
    "                print(\"Error: Command not recognized\")\n",
    "                \n",
    "    except Exception as e:\n",
    "        print(\"Error: \" + str(e) + \" on line: \" + str(line_num))\n",
    "        return\n",
    "\n",
    "def export(var_name, args):\n",
    "    input_var = get_var(args.split(\",\")[0].strip())\n",
    "    output_path = args.split(\",\")[1].strip()\n",
    "    shutil.copy(input_var, output_path)\n",
    "    print(\"Exported \" + input_var + \" to \" + output_path)\n",
    "\n",
    "def project(var_name, args):\n",
    "    #args will be in format path, col1, col2, col3\n",
    "    input_path = get_var(args.split(\",\")[0].strip())\n",
    "    temp_path = vars_directory + \"temp.csv\"\n",
    "    output_path = get_var(var_name)\n",
    "    cols = args.split(\",\")[1:]\n",
    "    # strip all of cols\n",
    "    cols = [col.strip() for col in cols]\n",
    "\n",
    "    num_rows = get_num_rows(input_path)\n",
    "    curr_row = 0\n",
    "\n",
    "\n",
    "    while(curr_row < num_rows):\n",
    "        df = read_csv_with_header(input_path, curr_row, max_tuples) \n",
    "        df = df[cols]\n",
    "\n",
    "        df.to_csv(temp_path, mode='a', header = False, index=False)\n",
    "        curr_row += max_tuples    \n",
    "\n",
    "    shutil.move(temp_path, output_path)    \n",
    "\n",
    "\n",
    "def merge(var_name, args):\n",
    "    #args will be in format path1, path2\n",
    "    input1 = get_var(args.split(\",\")[0].strip())\n",
    "    input2 = get_var(args.split(\",\")[1].strip())\n",
    "    on2 = args.split(\",\")[2].strip()\n",
    "    local_max = int(max_tuples/2)\n",
    "    temp_path = vars_directory + \"temp.csv\"\n",
    "    output_path = get_var(var_name)\n",
    "\n",
    "    num_rows1 = get_num_rows(input1)\n",
    "    num_rows2 = get_num_rows(input2)\n",
    "    curr_row1 = 1\n",
    "    while(curr_row1 <= num_rows1):\n",
    "        curr_row2 = 1\n",
    "        while(curr_row2 <= num_rows2):\n",
    "            df1 = read_csv_with_header(input1, curr_row1, local_max)\n",
    "            df2 = read_csv_with_header(input2, curr_row2, local_max)\n",
    "            df = pd.merge(df1, df2, on=on2, how='inner')\n",
    "            df.to_csv(temp_path, mode='a', header = False, index=False)\n",
    "            \n",
    "            curr_row2 += local_max\n",
    "        print(f\"Memory usage: {get_memory_usage() / (1024 * 1024):.2f} MB\")\n",
    "        print(\"current row is \" + str(curr_row1))\n",
    "        curr_row1 += local_max\n",
    "    shutil.move(temp_path, output_path)\n",
    "    \n",
    "\n",
    "def select(var_name, args):\n",
    "    input_var = args.split(\",\")[0].strip()\n",
    "    input_path = get_var(input_var)\n",
    "    temp_path = vars_directory + \"temp.csv\"\n",
    "    output_path = get_var(var_name)\n",
    "    filter_statement = args.split(\",\")[1].strip()\n",
    "    num_rows = get_num_rows(input_path)\n",
    "    curr_row = 1\n",
    "\n",
    "    while(curr_row < num_rows):\n",
    "        df = read_csv_with_header(input_path, curr_row, max_tuples)\n",
    "        df =  df[df.apply(lambda row: eval(filter_statement), axis=1)]\n",
    "        df.to_csv(temp_path, mode='a', header = False, index=False)\n",
    "        curr_row += max_tuples\n",
    "    shutil.move(temp_path, output_path)  \n",
    "\n",
    "\n",
    "def read_csv_with_header(file_path, skiprows, nrows):\n",
    "    # Read the header first\n",
    "    header = pd.read_csv(file_path, nrows=1).columns.tolist()\n",
    "    # Read the data, skipping the specified rows but keeping the header\n",
    "    data = pd.read_csv(file_path, skiprows=skiprows, nrows=nrows, header=None, names=header)\n",
    "    return data\n",
    "    \n",
    "def get_var(var_name):\n",
    "    if var_name in vars:\n",
    "        return vars[var_name]\n",
    "    else:\n",
    "        vars[var_name] = vars_directory + var_name + \".csv\"\n",
    "        return vars[var_name]\n",
    "\n",
    "def load(var_name, source_path):\n",
    "    # copy the file into /Variables folder and rename it to the variable name\n",
    "    destination_path = vars_directory + var_name + \".csv\"\n",
    "    vars[var_name] = destination_path\n",
    "    shutil.copy(source_path, destination_path)\n",
    "    print(\"File copied to \" + destination_path)\n",
    "    print(\"file from \" + source_path + \" loaded into \" + var_name)\n",
    "\n",
    "def get_num_rows(file_path):\n",
    "    with open(file_path, \"r\") as file:\n",
    "        num_rows = sum(1 for line in file)\n",
    "    return num_rows\n",
    "\n",
    "def breakDown(line):\n",
    "    # Breaks down the string into the variable name, command, and arguments\n",
    "    # Returns a tuple of the three or None if the string is not in the correct format\n",
    "    var_name = \"\"\n",
    "    command = \"\"\n",
    "    args = \"\"\n",
    "    eq_split = line.split(\"=\")\n",
    "    # Check if the line has an equals sign\n",
    "    if len(eq_split) < 2:\n",
    "        return None\n",
    "    var_name = eq_split[0].strip()\n",
    "    command_split = eq_split[1].split(\"{\")\n",
    "    if len(command_split) < 2:\n",
    "        return None\n",
    "    command = command_split[0].strip()\n",
    "    args = command_split[1].strip()[:-1]\n",
    "    return (var_name, command, args)\n",
    "\n"
   ]
  },
  {
   "cell_type": "code",
   "execution_count": null,
   "id": "fdef8346-fe69-4ce7-b91c-92e4cedf8007",
   "metadata": {},
   "outputs": [
    {
     "name": "stdout",
     "output_type": "stream",
     "text": [
      "File copied to /Users/jdanninger/Documents/GitHub/Large-CSV-Querier/Variables/relationships.csv\n",
      "file from /Users/jdanninger/Documents/GitHub/Large-CSV-Querier/OffshoreData/relationships.csv loaded into relationships\n",
      "File copied to /Users/jdanninger/Documents/GitHub/Large-CSV-Querier/Variables/entities.csv\n",
      "file from /Users/jdanninger/Documents/GitHub/Large-CSV-Querier/OffshoreData/nodes-entities.csv loaded into entities\n"
     ]
    },
    {
     "name": "stderr",
     "output_type": "stream",
     "text": [
      "/var/folders/cn/1fh6dg9d5rxf80xmd9jhmq0h0000gn/T/ipykernel_62915/1883075417.py:103: DtypeWarning: Columns (20) have mixed types. Specify dtype option on import or set low_memory=False.\n",
      "  data = pd.read_csv(file_path, skiprows=skiprows, nrows=nrows, header=None, names=header)\n"
     ]
    },
    {
     "name": "stdout",
     "output_type": "stream",
     "text": [
      "Memory usage: 510.20 MB\n",
      "Memory usage: 505.23 MB\n",
      "Memory usage: 496.83 MB\n"
     ]
    },
    {
     "name": "stderr",
     "output_type": "stream",
     "text": [
      "/var/folders/cn/1fh6dg9d5rxf80xmd9jhmq0h0000gn/T/ipykernel_62915/1883075417.py:103: DtypeWarning: Columns (20) have mixed types. Specify dtype option on import or set low_memory=False.\n",
      "  data = pd.read_csv(file_path, skiprows=skiprows, nrows=nrows, header=None, names=header)\n"
     ]
    },
    {
     "name": "stdout",
     "output_type": "stream",
     "text": [
      "Memory usage: 486.16 MB\n"
     ]
    },
    {
     "name": "stderr",
     "output_type": "stream",
     "text": [
      "/var/folders/cn/1fh6dg9d5rxf80xmd9jhmq0h0000gn/T/ipykernel_62915/1883075417.py:103: DtypeWarning: Columns (2,3,10,11,12,20) have mixed types. Specify dtype option on import or set low_memory=False.\n",
      "  data = pd.read_csv(file_path, skiprows=skiprows, nrows=nrows, header=None, names=header)\n"
     ]
    },
    {
     "name": "stdout",
     "output_type": "stream",
     "text": [
      "Memory usage: 459.59 MB\n",
      "Memory usage: 459.94 MB\n"
     ]
    },
    {
     "name": "stderr",
     "output_type": "stream",
     "text": [
      "/var/folders/cn/1fh6dg9d5rxf80xmd9jhmq0h0000gn/T/ipykernel_62915/1883075417.py:103: DtypeWarning: Columns (6,7,12,13,14,16,17,20) have mixed types. Specify dtype option on import or set low_memory=False.\n",
      "  data = pd.read_csv(file_path, skiprows=skiprows, nrows=nrows, header=None, names=header)\n"
     ]
    },
    {
     "name": "stdout",
     "output_type": "stream",
     "text": [
      "Memory usage: 458.95 MB\n",
      "Memory usage: 456.19 MB\n"
     ]
    },
    {
     "name": "stderr",
     "output_type": "stream",
     "text": [
      "/var/folders/cn/1fh6dg9d5rxf80xmd9jhmq0h0000gn/T/ipykernel_62915/1883075417.py:103: DtypeWarning: Columns (20) have mixed types. Specify dtype option on import or set low_memory=False.\n",
      "  data = pd.read_csv(file_path, skiprows=skiprows, nrows=nrows, header=None, names=header)\n"
     ]
    },
    {
     "name": "stdout",
     "output_type": "stream",
     "text": [
      "Memory usage: 458.98 MB\n"
     ]
    },
    {
     "name": "stderr",
     "output_type": "stream",
     "text": [
      "/var/folders/cn/1fh6dg9d5rxf80xmd9jhmq0h0000gn/T/ipykernel_62915/1883075417.py:103: DtypeWarning: Columns (3,14,16,17,20) have mixed types. Specify dtype option on import or set low_memory=False.\n",
      "  data = pd.read_csv(file_path, skiprows=skiprows, nrows=nrows, header=None, names=header)\n"
     ]
    },
    {
     "name": "stdout",
     "output_type": "stream",
     "text": [
      "Memory usage: 462.30 MB\n"
     ]
    },
    {
     "name": "stderr",
     "output_type": "stream",
     "text": [
      "/var/folders/cn/1fh6dg9d5rxf80xmd9jhmq0h0000gn/T/ipykernel_62915/1883075417.py:103: DtypeWarning: Columns (6,7,13,14,15,16,17) have mixed types. Specify dtype option on import or set low_memory=False.\n",
      "  data = pd.read_csv(file_path, skiprows=skiprows, nrows=nrows, header=None, names=header)\n"
     ]
    },
    {
     "name": "stdout",
     "output_type": "stream",
     "text": [
      "Memory usage: 473.08 MB\n",
      "Memory usage: 473.08 MB\n"
     ]
    },
    {
     "name": "stderr",
     "output_type": "stream",
     "text": [
      "/var/folders/cn/1fh6dg9d5rxf80xmd9jhmq0h0000gn/T/ipykernel_62915/1883075417.py:103: DtypeWarning: Columns (16,17) have mixed types. Specify dtype option on import or set low_memory=False.\n",
      "  data = pd.read_csv(file_path, skiprows=skiprows, nrows=nrows, header=None, names=header)\n"
     ]
    },
    {
     "name": "stdout",
     "output_type": "stream",
     "text": [
      "Memory usage: 475.73 MB\n"
     ]
    },
    {
     "name": "stderr",
     "output_type": "stream",
     "text": [
      "/var/folders/cn/1fh6dg9d5rxf80xmd9jhmq0h0000gn/T/ipykernel_62915/1883075417.py:103: DtypeWarning: Columns (6,10,13) have mixed types. Specify dtype option on import or set low_memory=False.\n",
      "  data = pd.read_csv(file_path, skiprows=skiprows, nrows=nrows, header=None, names=header)\n"
     ]
    },
    {
     "name": "stdout",
     "output_type": "stream",
     "text": [
      "Memory usage: 457.44 MB\n"
     ]
    },
    {
     "name": "stderr",
     "output_type": "stream",
     "text": [
      "/var/folders/cn/1fh6dg9d5rxf80xmd9jhmq0h0000gn/T/ipykernel_62915/1883075417.py:103: DtypeWarning: Columns (6,10,20) have mixed types. Specify dtype option on import or set low_memory=False.\n",
      "  data = pd.read_csv(file_path, skiprows=skiprows, nrows=nrows, header=None, names=header)\n"
     ]
    },
    {
     "name": "stdout",
     "output_type": "stream",
     "text": [
      "Memory usage: 466.05 MB\n"
     ]
    },
    {
     "name": "stderr",
     "output_type": "stream",
     "text": [
      "/var/folders/cn/1fh6dg9d5rxf80xmd9jhmq0h0000gn/T/ipykernel_62915/1883075417.py:103: DtypeWarning: Columns (3,6) have mixed types. Specify dtype option on import or set low_memory=False.\n",
      "  data = pd.read_csv(file_path, skiprows=skiprows, nrows=nrows, header=None, names=header)\n"
     ]
    },
    {
     "name": "stdout",
     "output_type": "stream",
     "text": [
      "Memory usage: 450.23 MB\n",
      "Memory usage: 466.41 MB\n",
      "Memory usage: 447.67 MB\n"
     ]
    },
    {
     "name": "stderr",
     "output_type": "stream",
     "text": [
      "/var/folders/cn/1fh6dg9d5rxf80xmd9jhmq0h0000gn/T/ipykernel_62915/1883075417.py:103: DtypeWarning: Columns (20) have mixed types. Specify dtype option on import or set low_memory=False.\n",
      "  data = pd.read_csv(file_path, skiprows=skiprows, nrows=nrows, header=None, names=header)\n"
     ]
    },
    {
     "name": "stdout",
     "output_type": "stream",
     "text": [
      "Memory usage: 451.80 MB\n",
      "Memory usage: 458.61 MB\n"
     ]
    },
    {
     "name": "stderr",
     "output_type": "stream",
     "text": [
      "/var/folders/cn/1fh6dg9d5rxf80xmd9jhmq0h0000gn/T/ipykernel_62915/1883075417.py:103: DtypeWarning: Columns (20) have mixed types. Specify dtype option on import or set low_memory=False.\n",
      "  data = pd.read_csv(file_path, skiprows=skiprows, nrows=nrows, header=None, names=header)\n"
     ]
    },
    {
     "name": "stdout",
     "output_type": "stream",
     "text": [
      "Memory usage: 458.95 MB\n"
     ]
    },
    {
     "name": "stderr",
     "output_type": "stream",
     "text": [
      "/var/folders/cn/1fh6dg9d5rxf80xmd9jhmq0h0000gn/T/ipykernel_62915/1883075417.py:103: DtypeWarning: Columns (2,3,10,11,12,20) have mixed types. Specify dtype option on import or set low_memory=False.\n",
      "  data = pd.read_csv(file_path, skiprows=skiprows, nrows=nrows, header=None, names=header)\n"
     ]
    },
    {
     "name": "stdout",
     "output_type": "stream",
     "text": [
      "Memory usage: 463.11 MB\n",
      "Memory usage: 463.39 MB\n"
     ]
    },
    {
     "name": "stderr",
     "output_type": "stream",
     "text": [
      "/var/folders/cn/1fh6dg9d5rxf80xmd9jhmq0h0000gn/T/ipykernel_62915/1883075417.py:103: DtypeWarning: Columns (6,7,12,13,14,16,17,20) have mixed types. Specify dtype option on import or set low_memory=False.\n",
      "  data = pd.read_csv(file_path, skiprows=skiprows, nrows=nrows, header=None, names=header)\n"
     ]
    },
    {
     "name": "stdout",
     "output_type": "stream",
     "text": [
      "Memory usage: 470.50 MB\n",
      "Memory usage: 485.06 MB\n"
     ]
    },
    {
     "name": "stderr",
     "output_type": "stream",
     "text": [
      "/var/folders/cn/1fh6dg9d5rxf80xmd9jhmq0h0000gn/T/ipykernel_62915/1883075417.py:103: DtypeWarning: Columns (20) have mixed types. Specify dtype option on import or set low_memory=False.\n",
      "  data = pd.read_csv(file_path, skiprows=skiprows, nrows=nrows, header=None, names=header)\n"
     ]
    },
    {
     "name": "stdout",
     "output_type": "stream",
     "text": [
      "Memory usage: 485.50 MB\n"
     ]
    },
    {
     "name": "stderr",
     "output_type": "stream",
     "text": [
      "/var/folders/cn/1fh6dg9d5rxf80xmd9jhmq0h0000gn/T/ipykernel_62915/1883075417.py:103: DtypeWarning: Columns (3,14,16,17,20) have mixed types. Specify dtype option on import or set low_memory=False.\n",
      "  data = pd.read_csv(file_path, skiprows=skiprows, nrows=nrows, header=None, names=header)\n"
     ]
    },
    {
     "name": "stdout",
     "output_type": "stream",
     "text": [
      "Memory usage: 489.45 MB\n"
     ]
    },
    {
     "name": "stderr",
     "output_type": "stream",
     "text": [
      "/var/folders/cn/1fh6dg9d5rxf80xmd9jhmq0h0000gn/T/ipykernel_62915/1883075417.py:103: DtypeWarning: Columns (6,7,13,14,15,16,17) have mixed types. Specify dtype option on import or set low_memory=False.\n",
      "  data = pd.read_csv(file_path, skiprows=skiprows, nrows=nrows, header=None, names=header)\n"
     ]
    },
    {
     "name": "stdout",
     "output_type": "stream",
     "text": [
      "Memory usage: 489.45 MB\n",
      "Memory usage: 501.08 MB\n"
     ]
    },
    {
     "name": "stderr",
     "output_type": "stream",
     "text": [
      "/var/folders/cn/1fh6dg9d5rxf80xmd9jhmq0h0000gn/T/ipykernel_62915/1883075417.py:103: DtypeWarning: Columns (16,17) have mixed types. Specify dtype option on import or set low_memory=False.\n",
      "  data = pd.read_csv(file_path, skiprows=skiprows, nrows=nrows, header=None, names=header)\n"
     ]
    },
    {
     "name": "stdout",
     "output_type": "stream",
     "text": [
      "Memory usage: 501.08 MB\n"
     ]
    },
    {
     "name": "stderr",
     "output_type": "stream",
     "text": [
      "/var/folders/cn/1fh6dg9d5rxf80xmd9jhmq0h0000gn/T/ipykernel_62915/1883075417.py:103: DtypeWarning: Columns (6,10,13) have mixed types. Specify dtype option on import or set low_memory=False.\n",
      "  data = pd.read_csv(file_path, skiprows=skiprows, nrows=nrows, header=None, names=header)\n"
     ]
    },
    {
     "name": "stdout",
     "output_type": "stream",
     "text": [
      "Memory usage: 486.28 MB\n"
     ]
    },
    {
     "name": "stderr",
     "output_type": "stream",
     "text": [
      "/var/folders/cn/1fh6dg9d5rxf80xmd9jhmq0h0000gn/T/ipykernel_62915/1883075417.py:103: DtypeWarning: Columns (6,10,20) have mixed types. Specify dtype option on import or set low_memory=False.\n",
      "  data = pd.read_csv(file_path, skiprows=skiprows, nrows=nrows, header=None, names=header)\n"
     ]
    },
    {
     "name": "stdout",
     "output_type": "stream",
     "text": [
      "Memory usage: 488.03 MB\n"
     ]
    },
    {
     "name": "stderr",
     "output_type": "stream",
     "text": [
      "/var/folders/cn/1fh6dg9d5rxf80xmd9jhmq0h0000gn/T/ipykernel_62915/1883075417.py:103: DtypeWarning: Columns (3,6) have mixed types. Specify dtype option on import or set low_memory=False.\n",
      "  data = pd.read_csv(file_path, skiprows=skiprows, nrows=nrows, header=None, names=header)\n"
     ]
    },
    {
     "name": "stdout",
     "output_type": "stream",
     "text": [
      "Memory usage: 503.61 MB\n",
      "Memory usage: 504.95 MB\n"
     ]
    },
    {
     "name": "stderr",
     "output_type": "stream",
     "text": [
      "/var/folders/cn/1fh6dg9d5rxf80xmd9jhmq0h0000gn/T/ipykernel_62915/1883075417.py:103: DtypeWarning: Columns (20) have mixed types. Specify dtype option on import or set low_memory=False.\n",
      "  data = pd.read_csv(file_path, skiprows=skiprows, nrows=nrows, header=None, names=header)\n"
     ]
    },
    {
     "name": "stdout",
     "output_type": "stream",
     "text": [
      "Memory usage: 506.06 MB\n",
      "Memory usage: 489.44 MB\n",
      "Memory usage: 490.12 MB\n"
     ]
    },
    {
     "name": "stderr",
     "output_type": "stream",
     "text": [
      "/var/folders/cn/1fh6dg9d5rxf80xmd9jhmq0h0000gn/T/ipykernel_62915/1883075417.py:103: DtypeWarning: Columns (20) have mixed types. Specify dtype option on import or set low_memory=False.\n",
      "  data = pd.read_csv(file_path, skiprows=skiprows, nrows=nrows, header=None, names=header)\n"
     ]
    },
    {
     "name": "stdout",
     "output_type": "stream",
     "text": [
      "Memory usage: 490.67 MB\n"
     ]
    },
    {
     "name": "stderr",
     "output_type": "stream",
     "text": [
      "/var/folders/cn/1fh6dg9d5rxf80xmd9jhmq0h0000gn/T/ipykernel_62915/1883075417.py:103: DtypeWarning: Columns (2,3,10,11,12,20) have mixed types. Specify dtype option on import or set low_memory=False.\n",
      "  data = pd.read_csv(file_path, skiprows=skiprows, nrows=nrows, header=None, names=header)\n"
     ]
    },
    {
     "name": "stdout",
     "output_type": "stream",
     "text": [
      "Memory usage: 513.23 MB\n",
      "Memory usage: 513.27 MB\n"
     ]
    },
    {
     "name": "stderr",
     "output_type": "stream",
     "text": [
      "/var/folders/cn/1fh6dg9d5rxf80xmd9jhmq0h0000gn/T/ipykernel_62915/1883075417.py:103: DtypeWarning: Columns (6,7,12,13,14,16,17,20) have mixed types. Specify dtype option on import or set low_memory=False.\n",
      "  data = pd.read_csv(file_path, skiprows=skiprows, nrows=nrows, header=None, names=header)\n"
     ]
    },
    {
     "name": "stdout",
     "output_type": "stream",
     "text": [
      "Memory usage: 513.31 MB\n",
      "Memory usage: 529.34 MB\n"
     ]
    }
   ],
   "source": [
    "# script_location = input(\"Enter the location of the script: \")\n",
    "script_location = \"/Users/jdanninger/Documents/GitHub/Large-CSV-Querier/stresstest.txt\"\n",
    "with open(script_location, 'r') as file:\n",
    "    line_no = 1\n",
    "    for line in file:\n",
    "        read_line(line, line_no)\n",
    "        line_no += 1"
   ]
  }
 ],
 "metadata": {
  "kernelspec": {
   "display_name": "Python 3 (ipykernel)",
   "language": "python",
   "name": "python3"
  },
  "language_info": {
   "codemirror_mode": {
    "name": "ipython",
    "version": 3
   },
   "file_extension": ".py",
   "mimetype": "text/x-python",
   "name": "python",
   "nbconvert_exporter": "python",
   "pygments_lexer": "ipython3",
   "version": "3.11.4"
  }
 },
 "nbformat": 4,
 "nbformat_minor": 5
}
